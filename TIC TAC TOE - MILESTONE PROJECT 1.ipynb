{
 "cells": [
  {
   "cell_type": "markdown",
   "id": "1ddf506b",
   "metadata": {},
   "source": [
    "# First part is to display the TIC TAC TOE board:"
   ]
  },
  {
   "cell_type": "code",
   "execution_count": 7,
   "id": "353ed88b",
   "metadata": {},
   "outputs": [],
   "source": [
    "def display_board(updated_dict):\n",
    "    print(\"         |         |         \")\n",
    "    print(\"   {}    |    {}   |    {}   \".format(updated_dict[\"7\"],updated_dict[\"8\"],updated_dict[\"9\"]))\n",
    "    print(\"_________|_________|_________\")\n",
    "    print(\"         |         |         \")\n",
    "    print(\"   {}    |    {}   |    {}   \".format(updated_dict[\"4\"],updated_dict[\"5\"],updated_dict[\"6\"]))\n",
    "    print(\"_________|_________|_________\")\n",
    "    print(\"         |         |         \")\n",
    "    print(\"   {}    |    {}   |    {}   \".format(updated_dict[\"1\"],updated_dict[\"2\"],updated_dict[\"3\"]))\n",
    "    print(\"         |         |         \")"
   ]
  },
  {
   "cell_type": "code",
   "execution_count": 9,
   "id": "f89a88b7",
   "metadata": {},
   "outputs": [
    {
     "name": "stdout",
     "output_type": "stream",
     "text": [
      "         |         |         \n",
      "   X    |    O   |    X   \n",
      "_________|_________|_________\n",
      "         |         |         \n",
      "   O    |    O   |    X   \n",
      "_________|_________|_________\n",
      "         |         |         \n",
      "   O    |    X   |       \n",
      "         |         |         \n"
     ]
    }
   ],
   "source": [
    "display_board(newdict)   "
   ]
  },
  {
   "cell_type": "markdown",
   "id": "3d372df1",
   "metadata": {},
   "source": [
    "# 2nd part : user input:"
   ]
  },
  {
   "cell_type": "code",
   "execution_count": 6,
   "id": "19a21527",
   "metadata": {},
   "outputs": [],
   "source": [
    "def user_selection():\n",
    "    selection=\"m\"\n",
    "    while selection not in [\"X\",\"O\"]:\n",
    "        selection= input(\"PLAYER 1 - Select from [X] or [O]:  \").upper()\n",
    "        if selection not in [\"X\",\"O\"]: \n",
    "            print(\"invalid input!! please select again>>\")\n",
    "        else:\n",
    "            selection=user_confirmation(selection)\n",
    "            print(selection)\n",
    "            if selection == False:\n",
    "                user_selection()\n",
    "            else:\n",
    "                break\n",
    "    print(selection)\n",
    "    return selection"
   ]
  },
  {
   "cell_type": "code",
   "execution_count": 5,
   "id": "f033c50b",
   "metadata": {},
   "outputs": [],
   "source": [
    "def user_confirmation(select):\n",
    "    confirmation=0\n",
    "    while confirmation not in [\"Y\",\"N\"]:\n",
    "        confirmation= input(\"PLAYER 1 selected {}. Confirm selection: [Y] or [N]:  \".format(select)).upper()\n",
    "        if confirmation not in [\"Y\",\"N\"]:\n",
    "            print(\"invalid input!! reply in [Y]/[N]\")\n",
    "        elif confirmation == \"N\":\n",
    "            print(\"Please select again>>\")\n",
    "            return False\n",
    "        elif confirmation == \"Y\":\n",
    "            print(\"PLAYER 1 selected {}. Confirmed\".format(select))\n",
    "            return select"
   ]
  },
  {
   "cell_type": "code",
   "execution_count": 6,
   "id": "88ca8bc6",
   "metadata": {},
   "outputs": [
    {
     "name": "stdout",
     "output_type": "stream",
     "text": [
      "PLAYER 1 - Select from [X] or [O]:  x\n",
      "PLAYER 1 selected X. Confirm selection: [Y] or [N]:  g\n",
      "invalid input!! reply in [Y]/[N]\n",
      "PLAYER 1 selected X. Confirm selection: [Y] or [N]:  y\n",
      "PLAYER 1 selected X. Confirmed\n",
      "X\n",
      "X\n"
     ]
    },
    {
     "data": {
      "text/plain": [
       "'X'"
      ]
     },
     "execution_count": 6,
     "metadata": {},
     "output_type": "execute_result"
    }
   ],
   "source": [
    "#test case1\n",
    "user_selection()"
   ]
  },
  {
   "cell_type": "code",
   "execution_count": 7,
   "id": "f70cad01",
   "metadata": {},
   "outputs": [
    {
     "name": "stdout",
     "output_type": "stream",
     "text": [
      "PLAYER 1 - Select from [X] or [O]:  o\n",
      "PLAYER 1 selected O. Confirm selection: [Y] or [N]:  d\n",
      "invalid input!! reply in [Y]/[N]\n",
      "PLAYER 1 selected O. Confirm selection: [Y] or [N]:  y\n",
      "PLAYER 1 selected O. Confirmed\n",
      "O\n",
      "O\n"
     ]
    },
    {
     "data": {
      "text/plain": [
       "'O'"
      ]
     },
     "execution_count": 7,
     "metadata": {},
     "output_type": "execute_result"
    }
   ],
   "source": [
    "#test case 2\n",
    "user_selection()"
   ]
  },
  {
   "cell_type": "code",
   "execution_count": 8,
   "id": "ad1cf39a",
   "metadata": {},
   "outputs": [
    {
     "name": "stdout",
     "output_type": "stream",
     "text": [
      "PLAYER 1 - Select from [X] or [O]:  x\n",
      "PLAYER 1 selected X. Confirm selection: [Y] or [N]:  f\n",
      "invalid input!! reply in [Y]/[N]\n",
      "PLAYER 1 selected X. Confirm selection: [Y] or [N]:  n\n",
      "Please select again>>\n",
      "False\n",
      "PLAYER 1 - Select from [X] or [O]:  c\n",
      "invalid input!! please select again>>\n",
      "PLAYER 1 - Select from [X] or [O]:  o\n",
      "PLAYER 1 selected O. Confirm selection: [Y] or [N]:  y\n",
      "PLAYER 1 selected O. Confirmed\n",
      "O\n",
      "O\n",
      "PLAYER 1 - Select from [X] or [O]:  o\n",
      "PLAYER 1 selected O. Confirm selection: [Y] or [N]:  y\n",
      "PLAYER 1 selected O. Confirmed\n",
      "O\n",
      "O\n"
     ]
    },
    {
     "data": {
      "text/plain": [
       "'O'"
      ]
     },
     "execution_count": 8,
     "metadata": {},
     "output_type": "execute_result"
    }
   ],
   "source": [
    "#test case3\n",
    "user_selection()"
   ]
  },
  {
   "cell_type": "code",
   "execution_count": 6,
   "id": "3cdfe6fa",
   "metadata": {},
   "outputs": [],
   "source": [
    "selection=0"
   ]
  },
  {
   "cell_type": "code",
   "execution_count": 7,
   "id": "9442ea2a",
   "metadata": {},
   "outputs": [
    {
     "name": "stdout",
     "output_type": "stream",
     "text": [
      "PLAYER 1 - Select from [X] or [O]:  x\n"
     ]
    }
   ],
   "source": [
    "selection= input(\"PLAYER 1 - Select from [X] or [O]:  \").upper()"
   ]
  },
  {
   "cell_type": "code",
   "execution_count": 8,
   "id": "078c9dbe",
   "metadata": {},
   "outputs": [
    {
     "data": {
      "text/plain": [
       "'X'"
      ]
     },
     "execution_count": 8,
     "metadata": {},
     "output_type": "execute_result"
    }
   ],
   "source": [
    "selection"
   ]
  },
  {
   "cell_type": "code",
   "execution_count": 9,
   "id": "581b5781",
   "metadata": {},
   "outputs": [
    {
     "name": "stdout",
     "output_type": "stream",
     "text": [
      "PLAYER 1 - Select from [X] or [O]:  o\n"
     ]
    }
   ],
   "source": [
    "selection= input(\"PLAYER 1 - Select from [X] or [O]:  \").upper()"
   ]
  },
  {
   "cell_type": "code",
   "execution_count": 10,
   "id": "d77dbf04",
   "metadata": {},
   "outputs": [
    {
     "data": {
      "text/plain": [
       "'O'"
      ]
     },
     "execution_count": 10,
     "metadata": {},
     "output_type": "execute_result"
    }
   ],
   "source": [
    "selection"
   ]
  },
  {
   "cell_type": "markdown",
   "id": "dd6a70a8",
   "metadata": {},
   "source": [
    "# display updater:"
   ]
  },
  {
   "cell_type": "code",
   "execution_count": 3,
   "id": "7e95e0fe",
   "metadata": {},
   "outputs": [],
   "source": [
    "def display_updater(p_num,l1):\n",
    "    if p_num ==\"p1\":\n",
    "        p_number=1\n",
    "    else:\n",
    "        p_number=2\n",
    "    c=\"f\"\n",
    "    d=False\n",
    "    while c not in l1 and not d:\n",
    "        c=input(\"Player {} choose a position value between [1-9]:\".format(p_number))\n",
    "        if c not in l1:\n",
    "            print(\"Position not available Choose again..\")\n",
    "        else:\n",
    "            d=True\n",
    "    return c"
   ]
  },
  {
   "cell_type": "markdown",
   "id": "6893e21e",
   "metadata": {},
   "source": [
    "# winner_checker:"
   ]
  },
  {
   "cell_type": "code",
   "execution_count": 4,
   "id": "03c2a009",
   "metadata": {},
   "outputs": [],
   "source": [
    "def winner_check(check_dict):\n",
    "    checklist=[[\"7\",\"8\",\"9\"],[\"4\", \"5\", \"6\"],[\"1\", \"2\", \"3\"],[\"7\",\"4\",\"1\"],[\"8\",\"5\",\"2\"],[\"9\",\"6\",\"3\"],[\"7\",\"5\",\"3\"],[\"1\",\"5\",\"9\"]]\n",
    "    x_list=[]\n",
    "    o_list=[]\n",
    "    sign=\"m\"\n",
    "    for k,v in check_dict.items():\n",
    "        if v ==\"X\":\n",
    "            x_list.append(k)\n",
    "        elif v==\"O\":\n",
    "            o_list.append(k)\n",
    "    check=False\n",
    "    for x in checklist:\n",
    "        if set(x).issubset(set(x_list)): \n",
    "            sign=\"X\"\n",
    "            check=True\n",
    "            break\n",
    "        elif set(x).issubset(set(o_list)):\n",
    "            sign=\"O\"\n",
    "            check=True\n",
    "            break\n",
    "        else:\n",
    "            check=False\n",
    "    return check,sign     "
   ]
  },
  {
   "cell_type": "code",
   "execution_count": 56,
   "id": "b1b0bebe",
   "metadata": {},
   "outputs": [
    {
     "name": "stdout",
     "output_type": "stream",
     "text": [
      "Player 1 wins.\n"
     ]
    },
    {
     "data": {
      "text/plain": [
       "True"
      ]
     },
     "execution_count": 56,
     "metadata": {},
     "output_type": "execute_result"
    }
   ],
   "source": [
    "winner_check(newdict,5)"
   ]
  },
  {
   "cell_type": "markdown",
   "id": "e8f771c5",
   "metadata": {},
   "source": [
    "# main cell of program goes here:"
   ]
  },
  {
   "cell_type": "code",
   "execution_count": 11,
   "id": "fb448b6b",
   "metadata": {},
   "outputs": [
    {
     "name": "stdout",
     "output_type": "stream",
     "text": [
      "         |         |         \n",
      "   X    |       |    O   \n",
      "_________|_________|_________\n",
      "         |         |         \n",
      "   X    |    O   |       \n",
      "_________|_________|_________\n",
      "         |         |         \n",
      "   X    |    O   |    X   \n",
      "         |         |         \n",
      "\n",
      "\n",
      "Player 1 wins.\n"
     ]
    }
   ],
   "source": [
    "#define list and dictionary here:\n",
    "l1=[str(x) for x in range(1,10)]\n",
    "newdict={x:\"\" for x in l1}\n",
    "\n",
    "from IPython.display import clear_output\n",
    "\n",
    "#user selection here:\n",
    "p1symbol=user_selection()\n",
    "l=[\"X\",\"O\"]\n",
    "l.pop(l.index(p1symbol))\n",
    "p2symbol= l.pop()\n",
    "\n",
    "#alternate the players here:\n",
    "trigger=1\n",
    "alternate=['p2', 'p1', 'p2', 'p1', 'p2', 'p1', 'p2', 'p1']\n",
    "while trigger != 9:\n",
    "    clear_output()\n",
    "    display_board(newdict)\n",
    "    player=alternate.pop()\n",
    "    if player==\"p1\":\n",
    "        symb=p1symbol\n",
    "    elif player==\"p2\":\n",
    "        symb=p2symbol\n",
    "    c=display_updater(player,l1)\n",
    "    newdict[c]=symb\n",
    "    l1.pop(l1.index(c))\n",
    "    clear_output()\n",
    "    display_board(newdict)\n",
    "    #check here if some one wins:\n",
    "        #call check funcn. here\n",
    "    if 8>=trigger>=5:\n",
    "        chk,sign1=winner_check(newdict)\n",
    "        if chk:\n",
    "            if sign1==p1symbol:\n",
    "                p=1\n",
    "            else:\n",
    "                p=2\n",
    "            print(\"\\n\\nPlayer {} wins.\".format(p))\n",
    "            break\n",
    "        else:\n",
    "            pass\n",
    "    else:\n",
    "        pass\n",
    "    trigger += 1\n",
    "else:\n",
    "    print(\"MATCH DRAWN!!!!...\")"
   ]
  },
  {
   "cell_type": "code",
   "execution_count": null,
   "id": "8b0d9aff",
   "metadata": {},
   "outputs": [],
   "source": []
  }
 ],
 "metadata": {
  "kernelspec": {
   "display_name": "Python 3 (ipykernel)",
   "language": "python",
   "name": "python3"
  },
  "language_info": {
   "codemirror_mode": {
    "name": "ipython",
    "version": 3
   },
   "file_extension": ".py",
   "mimetype": "text/x-python",
   "name": "python",
   "nbconvert_exporter": "python",
   "pygments_lexer": "ipython3",
   "version": "3.9.7"
  }
 },
 "nbformat": 4,
 "nbformat_minor": 5
}
